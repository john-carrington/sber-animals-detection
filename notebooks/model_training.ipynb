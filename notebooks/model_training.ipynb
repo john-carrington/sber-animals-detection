{
 "cells": [
  {
   "cell_type": "code",
   "execution_count": null,
   "metadata": {},
   "outputs": [],
   "source": [
    "!pip install -U ultralytics"
   ]
  },
  {
   "cell_type": "code",
   "execution_count": null,
   "metadata": {},
   "outputs": [],
   "source": [
    "from ultralytics import YOLO\n",
    "model = YOLO(\"yolo11l.pt\")\n",
    "\n",
    "# Train the model\n",
    "result = model.train(\n",
    "    data=\"/kaggle/input/mammals-dataset/123123/data.yaml\", \n",
    "    epochs=350, \n",
    "    optimizer='AdamW', \n",
    "    degrees=8,\n",
    "    shear=4,\n",
    "    fliplr=0.6,\n",
    "    mixup=0.4,\n",
    "    copy_paste=0.4,\n",
    "    translate=0.35,\n",
    "    patience=150,\n",
    "    scale=0.7,\n",
    "    imgsz=740)"
   ]
  },
  {
   "cell_type": "code",
   "execution_count": null,
   "metadata": {},
   "outputs": [],
   "source": [
    "model.save('model.pt')"
   ]
  }
 ],
 "metadata": {
  "kernelspec": {
   "display_name": ".venv",
   "language": "python",
   "name": "python3"
  },
  "language_info": {
   "codemirror_mode": {
    "name": "ipython",
    "version": 3
   },
   "file_extension": ".py",
   "mimetype": "text/x-python",
   "name": "python",
   "nbconvert_exporter": "python",
   "pygments_lexer": "ipython3",
   "version": "3.9.5"
  }
 },
 "nbformat": 4,
 "nbformat_minor": 2
}
