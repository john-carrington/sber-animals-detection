{
 "cells": [
  {
   "cell_type": "code",
   "execution_count": 2,
   "metadata": {},
   "outputs": [
    {
     "name": "stdout",
     "output_type": "stream",
     "text": [
      "Наиболее часто упоминаемая модель: CDDMSL (встречается 7 раз)\n"
     ]
    }
   ],
   "source": [
    "%pip install torch torchvision pycocotools opencv-python matplotlib"
   ]
  },
  {
   "cell_type": "code",
   "execution_count": null,
   "metadata": {},
   "outputs": [],
   "source": [
    "import torch\n",
    "import torchvision\n",
    "from torchvision.models.detection import MaskRCNN\n",
    "from torchvision.models.detection.rpn import AnchorGenerator\n",
    "from torchvision.datasets import CocoDetection\n",
    "from torchvision.transforms import functional as F\n",
    "from torch.utils.data import DataLoader\n",
    "from torchvision.models.detection.mask_rcnn import maskrcnn_resnet50_fpn\n",
    "import os\n",
    "import numpy as np\n",
    "import matplotlib.pyplot as plt\n",
    "from PIL import Image"
   ]
  },
  {
   "cell_type": "code",
   "execution_count": null,
   "metadata": {},
   "outputs": [],
   "source": [
    "class CustomCocoDataset(CocoDetection):\n",
    "    def __init__(self, root, annFile, transforms=None):\n",
    "        super(CustomCocoDataset, self).__init__(root, annFile)\n",
    "        self.transforms = transforms\n",
    "\n",
    "    def __getitem__(self, idx):\n",
    "        img, target = super(CustomCocoDataset, self).__getitem__(idx)\n",
    "\n",
    "        # Преобразуем аннотации в формат PyTorch\n",
    "        image_id = target[0][\"image_id\"]\n",
    "        target = {\n",
    "            \"boxes\": torch.as_tensor([obj[\"bbox\"] for obj in target], dtype=torch.float32),\n",
    "            \"labels\": torch.as_tensor([obj[\"category_id\"] for obj in target], dtype=torch.int64),\n",
    "            \"masks\": torch.as_tensor(\n",
    "                [self.coco.annToMask(obj) for obj in target], dtype=torch.uint8\n",
    "            ),\n",
    "            \"image_id\": torch.tensor([image_id]),\n",
    "            \"area\": torch.tensor([obj[\"area\"] for obj in target], dtype=torch.float32),\n",
    "            \"iscrowd\": torch.tensor([obj[\"iscrowd\"] for obj in target], dtype=torch.int64),\n",
    "        }\n",
    "\n",
    "        if self.transforms:\n",
    "            img = self.transforms(img)\n",
    "        return img, target"
   ]
  },
  {
   "cell_type": "code",
   "execution_count": null,
   "metadata": {},
   "outputs": [],
   "source": [
    "def get_transform(train):\n",
    "    transforms = []\n",
    "    transforms.append(F.to_tensor)\n",
    "    if train:\n",
    "        transforms.append(F.hflip)  # Пример горизонтального отражения\n",
    "    return torchvision.transforms.Compose(transforms)"
   ]
  },
  {
   "cell_type": "code",
   "execution_count": null,
   "metadata": {},
   "outputs": [],
   "source": [
    "train_dataset = CustomCocoDataset(\n",
    "    root=\"dataset/train/images\",\n",
    "    annFile=\"dataset/train/annotations.json\",\n",
    "    transforms=get_transform(train=True)\n",
    ")\n",
    "\n",
    "val_dataset = CustomCocoDataset(\n",
    "    root=\"dataset/val/images\",\n",
    "    annFile=\"dataset/val/annotations.json\",\n",
    "    transforms=get_transform(train=False)\n",
    ")\n",
    "\n",
    "train_loader = DataLoader(train_dataset, batch_size=4, shuffle=True, collate_fn=lambda x: tuple(zip(*x)))\n",
    "val_loader = DataLoader(val_dataset, batch_size=4, shuffle=False, collate_fn=lambda x: tuple(zip(*x)))"
   ]
  },
  {
   "cell_type": "code",
   "execution_count": null,
   "metadata": {},
   "outputs": [],
   "source": [
    "def get_model(num_classes):\n",
    "    # Загружаем предобученную Mask R-CNN\n",
    "    model = maskrcnn_resnet50_fpn(pretrained=True)\n",
    "\n",
    "    # Заменяем классификатор (head) для нашей задачи\n",
    "    in_features = model.roi_heads.box_predictor.cls_score.in_features\n",
    "    model.roi_heads.box_predictor = torchvision.models.detection.faster_rcnn.FastRCNNPredictor(in_features, num_classes)\n",
    "\n",
    "    # Заменяем масочный head\n",
    "    in_features_mask = model.roi_heads.mask_predictor.conv5_mask.in_channels\n",
    "    hidden_layer = 256\n",
    "    model.roi_heads.mask_predictor = torchvision.models.detection.mask_rcnn.MaskRCNNPredictor(\n",
    "        in_features_mask, hidden_layer, num_classes\n",
    "    )\n",
    "\n",
    "    return model"
   ]
  },
  {
   "cell_type": "code",
   "execution_count": null,
   "metadata": {},
   "outputs": [],
   "source": [
    "def train_model(model, train_loader, val_loader, num_epochs=10, lr=0.005, device=\"cuda\"):\n",
    "    model.to(device)\n",
    "    params = [p for p in model.parameters() if p.requires_grad]\n",
    "    optimizer = torch.optim.SGD(params, lr=lr, momentum=0.9, weight_decay=0.0005)\n",
    "    lr_scheduler = torch.optim.lr_scheduler.StepLR(optimizer, step_size=3, gamma=0.1)\n",
    "\n",
    "    for epoch in range(num_epochs):\n",
    "        model.train()\n",
    "        train_loss = 0\n",
    "\n",
    "        for images, targets in train_loader:\n",
    "            images = [img.to(device) for img in images]\n",
    "            targets = [{k: v.to(device) for k, v in t.items()} for t in targets]\n",
    "\n",
    "            # Обнуляем градиенты\n",
    "            optimizer.zero_grad()\n",
    "\n",
    "            # Вычисляем loss\n",
    "            loss_dict = model(images, targets)\n",
    "            losses = sum(loss for loss in loss_dict.values())\n",
    "\n",
    "            # Обратное распространение ошибки\n",
    "            losses.backward()\n",
    "            optimizer.step()\n",
    "\n",
    "            train_loss += losses.item()\n",
    "\n",
    "        # Шаг изменения learning rate\n",
    "        lr_scheduler.step()\n",
    "\n",
    "        print(f\"Эпоха {epoch + 1}: Потеря {train_loss / len(train_loader):.4f}\")\n",
    "\n",
    "    print(\"Обучение завершено\")\n",
    "    return model"
   ]
  },
  {
   "cell_type": "code",
   "execution_count": null,
   "metadata": {},
   "outputs": [],
   "source": [
    "if __name__ == \"__main__\":\n",
    "    num_classes = 3  # Млекопитающие + 1 класс для фона\n",
    "    model = get_model(num_classes)\n",
    "\n",
    "    # Обучение модели\n",
    "    model = train_model(model, train_loader, val_loader, num_epochs=10, lr=0.005)\n",
    "    \n",
    "    # Сохранение модели\n",
    "    torch.save(model.state_dict(), \"mammals_mask_rcnn.pth\")"
   ]
  }
 ],
 "metadata": {
  "kernelspec": {
   "display_name": ".venv",
   "language": "python",
   "name": "python3"
  },
  "language_info": {
   "codemirror_mode": {
    "name": "ipython",
    "version": 3
   },
   "file_extension": ".py",
   "mimetype": "text/x-python",
   "name": "python",
   "nbconvert_exporter": "python",
   "pygments_lexer": "ipython3",
   "version": "3.9.5"
  }
 },
 "nbformat": 4,
 "nbformat_minor": 2
}
