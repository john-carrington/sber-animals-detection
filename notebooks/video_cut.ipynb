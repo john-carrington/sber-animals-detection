{
 "cells": [
  {
   "cell_type": "markdown",
   "metadata": {},
   "source": [
    "#### Содержание блокнота\n",
    "Этот Jupyter-блокнот предназначен для автоматической раскадровки видеофайлов на отдельные изображения. Процесс включает в себя загрузку видео, его обработку и сохранение кадров в формате изображений."
   ]
  },
  {
   "cell_type": "markdown",
   "metadata": {},
   "source": [
    "#### Установка зависимостей"
   ]
  },
  {
   "cell_type": "code",
   "execution_count": null,
   "metadata": {
    "_cell_guid": "b1076dfc-b9ad-4769-8c92-a6c4dae69d19",
    "_uuid": "8f2839f25d086af736a60e9eeb907d3b93b6e0e5",
    "execution": {
     "iopub.execute_input": "2024-12-08T18:45:37.347443Z",
     "iopub.status.busy": "2024-12-08T18:45:37.347013Z",
     "iopub.status.idle": "2024-12-08T18:45:57.443668Z",
     "shell.execute_reply": "2024-12-08T18:45:57.442169Z",
     "shell.execute_reply.started": "2024-12-08T18:45:37.347399Z"
    },
    "trusted": true
   },
   "outputs": [],
   "source": [
    "!pip install yt-dlp numpy keras pillow scikit-learn tensorflow\n",
    "!apt install ffmpeg"
   ]
  },
  {
   "cell_type": "markdown",
   "metadata": {},
   "source": [
    "#### Параметры"
   ]
  },
  {
   "cell_type": "code",
   "execution_count": null,
   "metadata": {},
   "outputs": [],
   "source": [
    "OUTPUT_VIDEOS: str = 'output_videos'\n",
    "URL_CONFIG: str = 'urls.txt'\n",
    "\n",
    "OUTPUT_DATASET: str = 'dataset'\n",
    "STEP_SECONDS: int = 2"
   ]
  },
  {
   "cell_type": "markdown",
   "metadata": {},
   "source": [
    "#### Код для нахождения и удаления похожих изображений"
   ]
  },
  {
   "cell_type": "code",
   "execution_count": 2,
   "metadata": {
    "execution": {
     "iopub.execute_input": "2024-12-08T18:45:57.446436Z",
     "iopub.status.busy": "2024-12-08T18:45:57.446072Z",
     "iopub.status.idle": "2024-12-08T18:46:12.483142Z",
     "shell.execute_reply": "2024-12-08T18:46:12.481903Z",
     "shell.execute_reply.started": "2024-12-08T18:45:57.446393Z"
    },
    "trusted": true
   },
   "outputs": [],
   "source": [
    "import numpy as np\n",
    "import os\n",
    "\n",
    "from sklearn.metrics.pairwise import cosine_similarity\n",
    "from keras.preprocessing import image\n",
    "from keras.applications.vgg16 import VGG16, preprocess_input\n",
    "\n",
    "\n",
    "def load_and_preprocess_image(img_path, target_size=(224, 224)):\n",
    "    img = image.load_img(img_path, target_size=target_size)\n",
    "    img_array = image.img_to_array(img)\n",
    "    img_array = np.expand_dims(img_array, axis=0)\n",
    "    img_array = preprocess_input(img_array)\n",
    "    return img_array\n",
    "\n",
    "\n",
    "def extract_features(model, img_path):\n",
    "    img = load_and_preprocess_image(img_path)\n",
    "    features = model.predict(img)\n",
    "    return features.flatten()\n",
    "\n",
    "\n",
    "def find_duplicates(directory, threshold=0.9):\n",
    "    model = VGG16(weights='imagenet', include_top=False, pooling='avg')\n",
    "    image_features = {}\n",
    "    image_paths = []\n",
    "\n",
    "    for filename in os.listdir(directory):\n",
    "        if filename.lower().endswith(('.png', '.jpg', '.jpeg', '.bmp', '.gif')):\n",
    "            file_path = os.path.join(directory, filename)\n",
    "            features = extract_features(model, file_path)\n",
    "            image_features[file_path] = features\n",
    "            image_paths.append(file_path)\n",
    "\n",
    "    num_images = len(image_paths)\n",
    "    i = 0\n",
    "    while i < num_images:\n",
    "        j = i+1\n",
    "\n",
    "        while j < num_images:\n",
    "            similarity = cosine_similarity([image_features[image_paths[i]]], [\n",
    "                                           image_features[image_paths[j]]])\n",
    "            if similarity[0][0] > threshold:\n",
    "                print(\n",
    "                    f\"Duplicate found: {image_paths[i]} and {image_paths[j]} (similarity: {similarity[0][0]:.2f})\")\n",
    "                os.remove(image_paths[j])\n",
    "                print(f\"Deleted: {image_paths[j]}\")\n",
    "                image_paths.remove(image_paths[j])\n",
    "                num_images -= 1\n",
    "                j -= 1\n",
    "            j += 1\n",
    "\n",
    "        i += 1\n"
   ]
  },
  {
   "cell_type": "markdown",
   "metadata": {},
   "source": [
    "#### Раскадровка видео"
   ]
  },
  {
   "cell_type": "code",
   "execution_count": 3,
   "metadata": {
    "execution": {
     "iopub.execute_input": "2024-12-08T18:46:12.485846Z",
     "iopub.status.busy": "2024-12-08T18:46:12.485011Z",
     "iopub.status.idle": "2024-12-08T18:46:12.493104Z",
     "shell.execute_reply": "2024-12-08T18:46:12.491746Z",
     "shell.execute_reply.started": "2024-12-08T18:46:12.485787Z"
    },
    "trusted": true
   },
   "outputs": [],
   "source": [
    "import os\n",
    "\n",
    "def cut_video(VIDEO_PATH: str, STEP_SECONDS: int, OUTPUT_PATH: str):\n",
    "    if not os.path.exists(OUTPUT_PATH):\n",
    "        os.mkdir(OUTPUT_PATH)\n",
    "\n",
    "    output_file: str = os.path.splitext(os.path.basename(VIDEO_PATH))[0]\n",
    "    os.system(\n",
    "        f'ffmpeg -i \"{VIDEO_PATH}\" -vf \"fps=1/{STEP_SECONDS}\" -qscale:v 4 \"{OUTPUT_PATH}/{output_file}_%03d.jpg\"'\n",
    "    )"
   ]
  },
  {
   "cell_type": "markdown",
   "metadata": {},
   "source": [
    "#### Загрузка видео"
   ]
  },
  {
   "cell_type": "code",
   "execution_count": 4,
   "metadata": {
    "execution": {
     "iopub.execute_input": "2024-12-08T18:46:12.497069Z",
     "iopub.status.busy": "2024-12-08T18:46:12.496442Z",
     "iopub.status.idle": "2024-12-08T18:46:12.566695Z",
     "shell.execute_reply": "2024-12-08T18:46:12.565452Z",
     "shell.execute_reply.started": "2024-12-08T18:46:12.497032Z"
    },
    "trusted": true
   },
   "outputs": [],
   "source": [
    "def download_video(urls: list, output_path: str) -> None:\n",
    "    if not os.path.exists(output_path):\n",
    "        os.mkdir(output_path)\n",
    "        \n",
    "    urls = list(map(lambda x: x.strip().replace('\\n', ''), urls))\n",
    "    os.system(f'yt-dlp {\" \".join(urls)} -P \"{output_path}\"')"
   ]
  },
  {
   "cell_type": "code",
   "execution_count": null,
   "metadata": {
    "execution": {
     "iopub.execute_input": "2024-12-08T18:46:42.953552Z",
     "iopub.status.busy": "2024-12-08T18:46:42.953156Z",
     "iopub.status.idle": "2024-12-08T18:48:03.555258Z",
     "shell.execute_reply": "2024-12-08T18:48:03.554144Z",
     "shell.execute_reply.started": "2024-12-08T18:46:42.953518Z"
    },
    "trusted": true
   },
   "outputs": [],
   "source": [
    "with open(URL_CONFIG, 'r', encoding='utf-8') as file:\n",
    "    download_video(file.readlines(), OUTPUT_VIDEOS)\n",
    "    \n",
    "# URLS: list[str] = [\n",
    "#     'https://youtu.be/jOMJHcPfM_c?si=aD-aqEx6SLX-pG9_'\n",
    "# ]\n",
    "\n",
    "\n",
    "# download_video(URLS, OUTPUT_VIDEOS)\n"
   ]
  },
  {
   "cell_type": "markdown",
   "metadata": {},
   "source": [
    "#### Список с путями видео"
   ]
  },
  {
   "cell_type": "code",
   "execution_count": 12,
   "metadata": {
    "execution": {
     "iopub.execute_input": "2024-12-08T18:48:16.348337Z",
     "iopub.status.busy": "2024-12-08T18:48:16.347968Z",
     "iopub.status.idle": "2024-12-08T18:48:16.354526Z",
     "shell.execute_reply": "2024-12-08T18:48:16.353265Z",
     "shell.execute_reply.started": "2024-12-08T18:48:16.348304Z"
    },
    "trusted": true
   },
   "outputs": [],
   "source": [
    "videos: list[str] = list(map(lambda x: os.path.join(OUTPUT_VIDEOS, x), os.listdir(OUTPUT_VIDEOS)))"
   ]
  },
  {
   "cell_type": "markdown",
   "metadata": {},
   "source": [
    "#### Обработка изображений"
   ]
  },
  {
   "cell_type": "code",
   "execution_count": null,
   "metadata": {
    "execution": {
     "iopub.execute_input": "2024-12-08T18:48:18.746816Z",
     "iopub.status.busy": "2024-12-08T18:48:18.746395Z",
     "iopub.status.idle": "2024-12-08T18:51:11.110642Z",
     "shell.execute_reply": "2024-12-08T18:51:11.109217Z",
     "shell.execute_reply.started": "2024-12-08T18:48:18.746780Z"
    },
    "trusted": true
   },
   "outputs": [],
   "source": [
    "if not os.path.exists(OUTPUT_DATASET):\n",
    "    os.mkdir(OUTPUT_DATASET)\n",
    "    \n",
    "for video in videos:\n",
    "    if video.lower().endswith('part'): continue\n",
    "    OUTPUT_PATH: str = os.path.join(OUTPUT_DATASET, os.path.splitext(os.path.basename(video))[0])\n",
    "    VIDEO_PATH: str = video\n",
    "\n",
    "    cut_video(VIDEO_PATH, STEP_SECONDS, OUTPUT_PATH)\n",
    "    find_duplicates(OUTPUT_PATH, threshold=0.97)"
   ]
  },
  {
   "cell_type": "markdown",
   "metadata": {},
   "source": [
    "#### Добавляем в архив"
   ]
  },
  {
   "cell_type": "code",
   "execution_count": null,
   "metadata": {
    "execution": {
     "iopub.execute_input": "2024-12-08T18:46:14.304047Z",
     "iopub.status.busy": "2024-12-08T18:46:14.303640Z",
     "iopub.status.idle": "2024-12-08T18:46:14.327940Z",
     "shell.execute_reply": "2024-12-08T18:46:14.326786Z",
     "shell.execute_reply.started": "2024-12-08T18:46:14.304011Z"
    },
    "trusted": true
   },
   "outputs": [],
   "source": [
    "os.system(f'zip -r dataset2.zip {OUTPUT_DATASET}')"
   ]
  }
 ],
 "metadata": {
  "kaggle": {
   "accelerator": "none",
   "dataSources": [],
   "dockerImageVersionId": 30804,
   "isGpuEnabled": false,
   "isInternetEnabled": true,
   "language": "python",
   "sourceType": "notebook"
  },
  "kernelspec": {
   "display_name": "Python 3",
   "language": "python",
   "name": "python3"
  },
  "language_info": {
   "codemirror_mode": {
    "name": "ipython",
    "version": 3
   },
   "file_extension": ".py",
   "mimetype": "text/x-python",
   "name": "python",
   "nbconvert_exporter": "python",
   "pygments_lexer": "ipython3",
   "version": "3.10.14"
  }
 },
 "nbformat": 4,
 "nbformat_minor": 4
}
