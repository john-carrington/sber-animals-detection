{
 "cells": [
  {
   "cell_type": "code",
   "execution_count": 109,
   "metadata": {},
   "outputs": [],
   "source": [
    "# !pip install scikit-learn"
   ]
  },
  {
   "cell_type": "code",
   "execution_count": 110,
   "metadata": {},
   "outputs": [],
   "source": [
    "import os\n",
    "import shutil"
   ]
  },
  {
   "cell_type": "code",
   "execution_count": null,
   "metadata": {},
   "outputs": [],
   "source": [
    "DATASET_PATH: str = 'E:\\Downloads\\qweqwewqewq-02-01.v1-qweqwewqewq-02-01.yolov11'"
   ]
  },
  {
   "cell_type": "code",
   "execution_count": 112,
   "metadata": {},
   "outputs": [],
   "source": [
    "def create_dir(dir_name: str) -> None:\n",
    "    new_dir: str = os.path.join(DATASET_PATH, dir_name)\n",
    "    \n",
    "    if not os.path.exists(new_dir):\n",
    "        os.mkdir(new_dir)\n",
    "        os.mkdir(os.path.join(new_dir, 'images'))\n",
    "        os.mkdir(os.path.join(new_dir, 'labels'))\n",
    "        \n",
    "        print(f'Folder {dir_name} created!') \n",
    "        return\n",
    "    \n",
    "    print(f'Folder {dir_name} already exists!') \n",
    "    "
   ]
  },
  {
   "cell_type": "code",
   "execution_count": 113,
   "metadata": {},
   "outputs": [
    {
     "name": "stdout",
     "output_type": "stream",
     "text": [
      "Folder test already exists!\n",
      "Folder valid already exists!\n"
     ]
    }
   ],
   "source": [
    "create_dir('test')\n",
    "create_dir('valid')"
   ]
  },
  {
   "cell_type": "code",
   "execution_count": 114,
   "metadata": {},
   "outputs": [],
   "source": [
    "def get_max_class(values: list[str]) -> str:\n",
    "    classes: dict[str, int] = {}\n",
    "    for value in values:\n",
    "        value = value.split()[0]\n",
    "        if classes.get(value) is None:\n",
    "            classes[value] = 0\n",
    "        classes[value] += 1\n",
    "    if not classes: return 'Null'\n",
    "    return max(classes.items(), key=lambda x: x[1])[0]"
   ]
  },
  {
   "cell_type": "code",
   "execution_count": 115,
   "metadata": {},
   "outputs": [],
   "source": [
    "TARGET_DIR: str = os.path.join(DATASET_PATH, 'train/labels')\n",
    "CLASSES_PATH: dict[str, str] = {}\n",
    "\n",
    "for label in os.listdir(TARGET_DIR):\n",
    "    label_path: str = os.path.join(TARGET_DIR, label)\n",
    "    with open(label_path, 'r', encoding='utf-8') as file:\n",
    "        label_key = get_max_class(file.readlines())\n",
    "        \n",
    "        if CLASSES_PATH.get(label_key) is None:\n",
    "            CLASSES_PATH[label_key] = []\n",
    "        \n",
    "        CLASSES_PATH[label_key].append(label_path)\n",
    "        "
   ]
  },
  {
   "cell_type": "code",
   "execution_count": null,
   "metadata": {},
   "outputs": [],
   "source": [
    "def find_image_from_dataset(images_path: str, target: str) -> str:\n",
    "    for file in os.listdir(images_path):\n",
    "        for i in ['jpg', 'png', 'jpeg']:\n",
    "            if file == target+f'.{i}':\n",
    "                return file\n",
    "    return None\n",
    "\n",
    "\n",
    "def get_root_dataset_path(path: str) -> str:\n",
    "    path = os.path.normpath(path).split(os.sep)\n",
    "    index = path.index('labels')\n",
    "    return '\\\\'.join(path[:index])\n",
    "\n",
    "\n",
    "def move_files(target_path, files_path: list) -> None:\n",
    "    for file in files_path:\n",
    "        shutil.move(file, os.path.join(DATASET_PATH, target_path, 'labels'))\n",
    "        image_path: str = os.path.join(get_root_dataset_path(file), 'images')\n",
    "        image = find_image_from_dataset(image_path, os.path.splitext(os.path.basename(file))[0])\n",
    "        if image is None:\n",
    "            print('Image not found, continue!}')\n",
    "            continue\n",
    "        shutil.move(\n",
    "            os.path.join(image_path, image), \n",
    "            os.path.join(DATASET_PATH, target_path, 'images')\n",
    "        )\n",
    "        \n",
    "        "
   ]
  },
  {
   "cell_type": "code",
   "execution_count": 117,
   "metadata": {},
   "outputs": [],
   "source": [
    "from sklearn.model_selection import train_test_split\n",
    "\n",
    "for key in CLASSES_PATH.keys():\n",
    "    train, temp = train_test_split(CLASSES_PATH[key], test_size=0.3,  random_state=42, shuffle=True)\n",
    "    valid, test = train_test_split(temp, test_size=0.5,  random_state=42, shuffle=True)\n",
    "    \n",
    "    move_files('test', test)\n",
    "    move_files('valid', valid)\n",
    "    \n",
    "    "
   ]
  }
 ],
 "metadata": {
  "kernelspec": {
   "display_name": ".venv",
   "language": "python",
   "name": "python3"
  },
  "language_info": {
   "codemirror_mode": {
    "name": "ipython",
    "version": 3
   },
   "file_extension": ".py",
   "mimetype": "text/x-python",
   "name": "python",
   "nbconvert_exporter": "python",
   "pygments_lexer": "ipython3",
   "version": "3.11.5"
  }
 },
 "nbformat": 4,
 "nbformat_minor": 2
}
